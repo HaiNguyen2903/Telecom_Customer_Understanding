{
 "cells": [
  {
   "cell_type": "code",
   "execution_count": 72,
   "metadata": {},
   "outputs": [],
   "source": [
    "import pandas as pd\n",
    "import seaborn as sns\n",
    "import matplotlib.pyplot as plt\n",
    "import numpy as np\n",
    "from collections import defaultdict\n",
    "import csv\n",
    "import math\n",
    "\n",
    "from sklearn.model_selection import train_test_split, StratifiedKFold\n",
    "from sklearn.metrics import f1_score, accuracy_score, precision_score, precision_recall_curve, classification_report"
   ]
  },
  {
   "cell_type": "code",
   "execution_count": 73,
   "metadata": {},
   "outputs": [
    {
     "name": "stdout",
     "output_type": "stream",
     "text": [
      "Data shape: (41180, 21)\n",
      "Index(['age', 'job', 'marital', 'education', 'default', 'housing', 'loan',\n",
      "       'contact', 'month', 'day_of_week', 'duration', 'campaign', 'pdays',\n",
      "       'previous', 'poutcome', 'emp.var.rate', 'cons.price.idx',\n",
      "       'cons.conf.idx', 'euribor3m', 'nr.employed', 'y'],\n",
      "      dtype='object')\n"
     ]
    },
    {
     "data": {
      "text/html": [
       "<div>\n",
       "<style scoped>\n",
       "    .dataframe tbody tr th:only-of-type {\n",
       "        vertical-align: middle;\n",
       "    }\n",
       "\n",
       "    .dataframe tbody tr th {\n",
       "        vertical-align: top;\n",
       "    }\n",
       "\n",
       "    .dataframe thead th {\n",
       "        text-align: right;\n",
       "    }\n",
       "</style>\n",
       "<table border=\"1\" class=\"dataframe\">\n",
       "  <thead>\n",
       "    <tr style=\"text-align: right;\">\n",
       "      <th></th>\n",
       "      <th>age</th>\n",
       "      <th>job</th>\n",
       "      <th>marital</th>\n",
       "      <th>education</th>\n",
       "      <th>default</th>\n",
       "      <th>housing</th>\n",
       "      <th>loan</th>\n",
       "      <th>contact</th>\n",
       "      <th>month</th>\n",
       "      <th>day_of_week</th>\n",
       "      <th>...</th>\n",
       "      <th>campaign</th>\n",
       "      <th>pdays</th>\n",
       "      <th>previous</th>\n",
       "      <th>poutcome</th>\n",
       "      <th>emp.var.rate</th>\n",
       "      <th>cons.price.idx</th>\n",
       "      <th>cons.conf.idx</th>\n",
       "      <th>euribor3m</th>\n",
       "      <th>nr.employed</th>\n",
       "      <th>y</th>\n",
       "    </tr>\n",
       "  </thead>\n",
       "  <tbody>\n",
       "    <tr>\n",
       "      <th>0</th>\n",
       "      <td>40</td>\n",
       "      <td>admin.</td>\n",
       "      <td>married</td>\n",
       "      <td>basic.6y</td>\n",
       "      <td>no</td>\n",
       "      <td>no</td>\n",
       "      <td>no</td>\n",
       "      <td>telephone</td>\n",
       "      <td>may</td>\n",
       "      <td>mon</td>\n",
       "      <td>...</td>\n",
       "      <td>1</td>\n",
       "      <td>999</td>\n",
       "      <td>0</td>\n",
       "      <td>nonexistent</td>\n",
       "      <td>1.1</td>\n",
       "      <td>93.994</td>\n",
       "      <td>-36.4</td>\n",
       "      <td>4.857</td>\n",
       "      <td>5191</td>\n",
       "      <td>no</td>\n",
       "    </tr>\n",
       "    <tr>\n",
       "      <th>1</th>\n",
       "      <td>56</td>\n",
       "      <td>services</td>\n",
       "      <td>married</td>\n",
       "      <td>high.school</td>\n",
       "      <td>no</td>\n",
       "      <td>no</td>\n",
       "      <td>yes</td>\n",
       "      <td>telephone</td>\n",
       "      <td>may</td>\n",
       "      <td>mon</td>\n",
       "      <td>...</td>\n",
       "      <td>1</td>\n",
       "      <td>999</td>\n",
       "      <td>0</td>\n",
       "      <td>nonexistent</td>\n",
       "      <td>1.1</td>\n",
       "      <td>93.994</td>\n",
       "      <td>-36.4</td>\n",
       "      <td>4.857</td>\n",
       "      <td>5191</td>\n",
       "      <td>no</td>\n",
       "    </tr>\n",
       "    <tr>\n",
       "      <th>2</th>\n",
       "      <td>45</td>\n",
       "      <td>services</td>\n",
       "      <td>married</td>\n",
       "      <td>basic.9y</td>\n",
       "      <td>unknown</td>\n",
       "      <td>no</td>\n",
       "      <td>no</td>\n",
       "      <td>telephone</td>\n",
       "      <td>may</td>\n",
       "      <td>mon</td>\n",
       "      <td>...</td>\n",
       "      <td>1</td>\n",
       "      <td>999</td>\n",
       "      <td>0</td>\n",
       "      <td>nonexistent</td>\n",
       "      <td>1.1</td>\n",
       "      <td>93.994</td>\n",
       "      <td>-36.4</td>\n",
       "      <td>4.857</td>\n",
       "      <td>5191</td>\n",
       "      <td>no</td>\n",
       "    </tr>\n",
       "  </tbody>\n",
       "</table>\n",
       "<p>3 rows × 21 columns</p>\n",
       "</div>"
      ],
      "text/plain": [
       "  age       job  marital    education  default housing loan    contact month  \\\n",
       "0  40    admin.  married     basic.6y       no      no   no  telephone   may   \n",
       "1  56  services  married  high.school       no      no  yes  telephone   may   \n",
       "2  45  services  married     basic.9y  unknown      no   no  telephone   may   \n",
       "\n",
       "  day_of_week  ... campaign pdays previous     poutcome emp.var.rate  \\\n",
       "0         mon  ...        1   999        0  nonexistent          1.1   \n",
       "1         mon  ...        1   999        0  nonexistent          1.1   \n",
       "2         mon  ...        1   999        0  nonexistent          1.1   \n",
       "\n",
       "  cons.price.idx cons.conf.idx euribor3m nr.employed   y  \n",
       "0         93.994         -36.4     4.857        5191  no  \n",
       "1         93.994         -36.4     4.857        5191  no  \n",
       "2         93.994         -36.4     4.857        5191  no  \n",
       "\n",
       "[3 rows x 21 columns]"
      ]
     },
     "execution_count": 73,
     "metadata": {},
     "output_type": "execute_result"
    }
   ],
   "source": [
    "FILE_PATH = '../data/TeleCom_Data-1.csv'\n",
    "\n",
    "def format_row(row):\n",
    "    # format row in the raw data file\n",
    "    row = row[0]\n",
    "    row = row.replace('\"','')\n",
    "    row = row.split(';')\n",
    "    return row\n",
    "\n",
    "def read_raw_data(file_path='TeleCom_Data-1.csv'):\n",
    "    '''\n",
    "    since the raw csv file cannot be read directly by the pandas read_csv function,\n",
    "    we need to read it in another way and return a dataframe from it.\n",
    "    '''\n",
    "    with open(file_path, newline='') as f:\n",
    "        # data is a list, each element is a row from the file, each row is a list with len 1\n",
    "        data = csv.reader(f)\n",
    "\n",
    "        # read the first\n",
    "        header = next(data)\n",
    "        header = format_row(header)\n",
    "\n",
    "        new_data = []\n",
    "\n",
    "        for row in data:\n",
    "            row = format_row(row)\n",
    "            new_data.append(row)\n",
    "\n",
    "        # create a dict with keys are headers and values are columns\n",
    "        data_dict = defaultdict(list)\n",
    "\n",
    "        for row in new_data:\n",
    "            for i in range(len(row)):\n",
    "                data_dict[header[i]].append(row[i])\n",
    "\n",
    "    return pd.DataFrame(data=data_dict)\n",
    "\n",
    "# read generated data\n",
    "df = read_raw_data(file_path=FILE_PATH)\n",
    "\n",
    "print('Data shape:', df.shape)\n",
    "print(df.columns)\n",
    "df.head(3)"
   ]
  },
  {
   "cell_type": "markdown",
   "metadata": {},
   "source": [
    "# Data Preprocessing"
   ]
  },
  {
   "cell_type": "markdown",
   "metadata": {},
   "source": [
    "## Drop Duplicated"
   ]
  },
  {
   "cell_type": "code",
   "execution_count": 74,
   "metadata": {},
   "outputs": [
    {
     "name": "stdout",
     "output_type": "stream",
     "text": [
      "Number of duplicate samples: 12\n",
      "Number of samples after removing duplicate samples: 41168\n"
     ]
    }
   ],
   "source": [
    "# drop duplicate samples\n",
    "print('Number of duplicate samples:', len(df[df.duplicated()]))\n",
    "df = df.drop_duplicates(keep='first')\n",
    "print('Number of samples after removing duplicate samples:', len(df))"
   ]
  },
  {
   "cell_type": "markdown",
   "metadata": {},
   "source": [
    "# Machine Learning Models"
   ]
  },
  {
   "cell_type": "markdown",
   "metadata": {},
   "source": [
    "## Train Test Split"
   ]
  },
  {
   "cell_type": "code",
   "execution_count": 75,
   "metadata": {},
   "outputs": [
    {
     "name": "stdout",
     "output_type": "stream",
     "text": [
      "X train shape: (32934, 20)\n",
      "y train shape: (32934,)\n",
      "X test shape: (8234, 20)\n",
      "y test shape: (8234,)\n"
     ]
    }
   ],
   "source": [
    "X = df.drop(columns='y')\n",
    "y = df['y']\n",
    "\n",
    "X_train, X_test, y_train, y_test = train_test_split(X, y, test_size=0.2, random_state=42, stratify=y)\n",
    "\n",
    "print('X train shape:', X_train.shape)\n",
    "print('y train shape:', y_train.shape)\n",
    "print('X test shape:', X_test.shape)\n",
    "print('y test shape:', y_test.shape)"
   ]
  },
  {
   "cell_type": "code",
   "execution_count": 7,
   "metadata": {},
   "outputs": [
    {
     "name": "stderr",
     "output_type": "stream",
     "text": [
      "/Users/hainguyen/anaconda3/envs/telecom/lib/python3.9/site-packages/seaborn/_oldcore.py:1498: FutureWarning: is_categorical_dtype is deprecated and will be removed in a future version. Use isinstance(dtype, CategoricalDtype) instead\n",
      "  if pd.api.types.is_categorical_dtype(vector):\n",
      "/Users/hainguyen/anaconda3/envs/telecom/lib/python3.9/site-packages/seaborn/_oldcore.py:1498: FutureWarning: is_categorical_dtype is deprecated and will be removed in a future version. Use isinstance(dtype, CategoricalDtype) instead\n",
      "  if pd.api.types.is_categorical_dtype(vector):\n",
      "/Users/hainguyen/anaconda3/envs/telecom/lib/python3.9/site-packages/seaborn/_oldcore.py:1119: FutureWarning: use_inf_as_na option is deprecated and will be removed in a future version. Convert inf values to NaN before operating instead.\n",
      "  with pd.option_context('mode.use_inf_as_na', True):\n",
      "/Users/hainguyen/anaconda3/envs/telecom/lib/python3.9/site-packages/seaborn/_oldcore.py:1498: FutureWarning: is_categorical_dtype is deprecated and will be removed in a future version. Use isinstance(dtype, CategoricalDtype) instead\n",
      "  if pd.api.types.is_categorical_dtype(vector):\n",
      "/Users/hainguyen/anaconda3/envs/telecom/lib/python3.9/site-packages/seaborn/_oldcore.py:1498: FutureWarning: is_categorical_dtype is deprecated and will be removed in a future version. Use isinstance(dtype, CategoricalDtype) instead\n",
      "  if pd.api.types.is_categorical_dtype(vector):\n",
      "/Users/hainguyen/anaconda3/envs/telecom/lib/python3.9/site-packages/seaborn/_oldcore.py:1119: FutureWarning: use_inf_as_na option is deprecated and will be removed in a future version. Convert inf values to NaN before operating instead.\n",
      "  with pd.option_context('mode.use_inf_as_na', True):\n"
     ]
    },
    {
     "data": {
      "text/plain": [
       "Text(0.5, 1.0, 'y distribution in Test Set')"
      ]
     },
     "execution_count": 7,
     "metadata": {},
     "output_type": "execute_result"
    },
    {
     "data": {
      "image/png": "[encoded data removed]",
      "text/plain": [
       "<Figure size 2000x500 with 2 Axes>"
      ]
     },
     "metadata": {},
     "output_type": "display_data"
    }
   ],
   "source": [
    "# plot y distribution in train set and test set\n",
    "\n",
    "fig, axes = plt.subplots(1, 2, figsize=(20,5))\n",
    "sns.histplot(y_train, ax=axes[0])\n",
    "axes[0].set_title('y distribution in Train Set')\n",
    "sns.histplot(y_test,  ax=axes[1])\n",
    "axes[1].set_title('y distribution in Test Set')"
   ]
  },
  {
   "cell_type": "markdown",
   "metadata": {},
   "source": [
    "## Feature Selection"
   ]
  },
  {
   "attachments": {
    "image.png": {
     "image/png": "[encoded data removed]"
    }
   },
   "cell_type": "markdown",
   "metadata": {},
   "source": [
    "![image.png](attachment:image.png)"
   ]
  },
  {
   "cell_type": "code",
   "execution_count": 9,
   "metadata": {},
   "outputs": [],
   "source": [
    "# corr_matrix = df.corr()\n",
    "\n",
    "# fig, ax = plt.subplots(figsize=(10,10))\n",
    "# cmap = sns.diverging_palette(230, 20, as_cmap=True)\n",
    "# # Generate a mask for the upper triangle\n",
    "# mask = np.triu(np.ones_like(corr_matrix, dtype=bool))\n",
    "\n",
    "# sns.heatmap(corr_matrix, fmt=\".2\", cmap=cmap, square=True, mask=mask,\n",
    "#             vmax=.3, center=0, linewidths=.5, cbar_kws={\"shrink\": .5})\n",
    "\n",
    "\n",
    "\n",
    "\n",
    "# # Set a correlation threshold (you can adjust this value)\n",
    "# threshold = 0.8\n",
    "\n",
    "# # Find variable pairs with high correlation\n",
    "# high_corr_pairs = []\n",
    "\n",
    "# for i in range(len(corr_matrix.columns)):\n",
    "#     for j in range(i + 1, len(corr_matrix.columns)):\n",
    "#         if abs(corr_matrix.iloc[i, j]) > threshold:\n",
    "#             high_corr_pairs.append((corr_matrix.columns[i], corr_matrix.columns[j]))\n",
    "\n",
    "# # Print variable pairs with high correlation\n",
    "# for var1, var2 in high_corr_pairs:\n",
    "#     print(f'High correlation between {var1} and {var2}: {corr_matrix.loc[var1, var2]:.3f}')"
   ]
  },
  {
   "cell_type": "markdown",
   "metadata": {},
   "source": [
    "## Hanlding imbalance with SMOTE NC"
   ]
  },
  {
   "cell_type": "code",
   "execution_count": 10,
   "metadata": {},
   "outputs": [
    {
     "name": "stdout",
     "output_type": "stream",
     "text": [
      "Number of No class: 29224\n",
      "Number of Yes class: 3710\n",
      "Yes/No Ratio: 12.7\n"
     ]
    }
   ],
   "source": [
    "from imblearn.over_sampling import SMOTENC\n",
    "\n",
    "cate_feats = [\"job\", \"marital\", \"education\", \"default\", \"housing\", \"loan\",\n",
    "            \"contact\", \"month\", \"day_of_week\", \"poutcome\"]\n",
    "\n",
    "cate_indices = [X_train.columns.get_loc(feat) for feat in cate_feats]\n",
    "\n",
    "num_no = (y_train== 'no').sum()\n",
    "num_yes = (y_train== 'yes').sum()\n",
    "\n",
    "print('Number of No class:', num_no)\n",
    "print('Number of Yes class:', num_yes)\n",
    "print('Yes/No Ratio:', round(num_yes/num_no*100, 2))\n",
    "\n",
    "smote_nc = SMOTENC(random_state=42, categorical_features=cate_indices)\n",
    "X_train_balanced, y_train_balanced = smote_nc.fit_resample(X_train, y_train)"
   ]
  },
  {
   "cell_type": "code",
   "execution_count": 11,
   "metadata": {},
   "outputs": [
    {
     "name": "stdout",
     "output_type": "stream",
     "text": [
      "Number of No class: 29224\n",
      "Number of Yes class: 29224\n",
      "Yes/No Ratio: 100.0\n"
     ]
    }
   ],
   "source": [
    "num_no_balanced = (y_train_balanced == 'no').sum()\n",
    "num_yes_balanced = (y_train_balanced == 'yes').sum()\n",
    "print('Number of No class:', num_no_balanced)\n",
    "print('Number of Yes class:', num_yes_balanced)\n",
    "print('Yes/No Ratio:', round(num_yes_balanced/num_no_balanced*100, 2))"
   ]
  },
  {
   "cell_type": "code",
   "execution_count": 15,
   "metadata": {},
   "outputs": [
    {
     "data": {
      "text/plain": [
       "dict_keys(['job', 'marital', 'education', 'default', 'housing', 'loan', 'contact', 'month', 'day_of_week', 'poutcome', 'y'])"
      ]
     },
     "execution_count": 15,
     "metadata": {},
     "output_type": "execute_result"
    }
   ],
   "source": [
    "cate_feats = [\"job\", \"marital\", \"education\", \"default\", \"housing\", \"loan\",\n",
    "            \"contact\", \"month\", \"day_of_week\", \"poutcome\", \"y\"]\n",
    "\n",
    "def get_encode_cate_dict(df, cate_feats):\n",
    "    encode_dict = {}\n",
    "    for feat in cate_feats:\n",
    "        vals = df[feat].unique()\n",
    "        encode = {cat_val: encode_val for (encode_val, cat_val) in enumerate(vals)}\n",
    "        # replace values in df\n",
    "        encode_dict[feat] = encode\n",
    "    return encode_dict\n",
    "\n",
    "encode_dict = get_encode_cate_dict(df, cate_feats)\n",
    "encode_dict.keys()"
   ]
  },
  {
   "cell_type": "code",
   "execution_count": 29,
   "metadata": {},
   "outputs": [],
   "source": [
    "# encode train and test dataset\n",
    "\n",
    "def encode_cate_data(df, encode_dict, type='input'):\n",
    "    if type == 'output':\n",
    "        df = df.map(encode_dict['y'])\n",
    "        return df\n",
    "\n",
    "    for feat in encode_dict.keys():\n",
    "        if feat == 'y':\n",
    "            continue\n",
    "        df[feat] = df[feat].map(encode_dict[feat])\n",
    "    return df\n",
    "\n",
    "X_train = encode_cate_data(X_train, encode_dict)\n",
    "y_train = encode_cate_data(y_train, encode_dict, type='output')\n",
    "\n",
    "X_train_balanced = encode_cate_data(X_train_balanced, encode_dict)\n",
    "y_train_balanced = encode_cate_data(y_train_balanced, encode_dict, type='output')\n",
    "\n",
    "X_test = encode_cate_data(X_test, encode_dict)\n",
    "y_test = encode_cate_data(y_test, encode_dict, type='output')"
   ]
  },
  {
   "cell_type": "markdown",
   "metadata": {},
   "source": [
    "Evaluation Metrics: Precision, Recall, F1, ROC, AUC"
   ]
  },
  {
   "cell_type": "markdown",
   "metadata": {},
   "source": [
    "## Parametric Models"
   ]
  },
  {
   "cell_type": "markdown",
   "metadata": {},
   "source": [
    "### Logistic Regression"
   ]
  },
  {
   "cell_type": "code",
   "execution_count": 36,
   "metadata": {},
   "outputs": [
    {
     "name": "stderr",
     "output_type": "stream",
     "text": [
      "/Users/hainguyen/anaconda3/envs/telecom/lib/python3.9/site-packages/sklearn/linear_model/_logistic.py:460: ConvergenceWarning: lbfgs failed to converge (status=1):\n",
      "STOP: TOTAL NO. of ITERATIONS REACHED LIMIT.\n",
      "\n",
      "Increase the number of iterations (max_iter) or scale the data as shown in:\n",
      "    https://scikit-learn.org/stable/modules/preprocessing.html\n",
      "Please also refer to the documentation for alternative solver options:\n",
      "    https://scikit-learn.org/stable/modules/linear_model.html#logistic-regression\n",
      "  n_iter_i = _check_optimize_result(\n"
     ]
    },
    {
     "name": "stdout",
     "output_type": "stream",
     "text": [
      "              precision    recall  f1-score   support\n",
      "\n",
      "          no       0.93      0.98      0.95      7307\n",
      "         yes       0.68      0.40      0.50       927\n",
      "\n",
      "    accuracy                           0.91      8234\n",
      "   macro avg       0.80      0.69      0.73      8234\n",
      "weighted avg       0.90      0.91      0.90      8234\n",
      "\n",
      "              precision    recall  f1-score   support\n",
      "\n",
      "          no       0.98      0.85      0.91      7307\n",
      "         yes       0.43      0.86      0.57       927\n",
      "\n",
      "    accuracy                           0.86      8234\n",
      "   macro avg       0.71      0.86      0.74      8234\n",
      "weighted avg       0.92      0.86      0.88      8234\n",
      "\n"
     ]
    },
    {
     "name": "stderr",
     "output_type": "stream",
     "text": [
      "/Users/hainguyen/anaconda3/envs/telecom/lib/python3.9/site-packages/sklearn/linear_model/_logistic.py:460: ConvergenceWarning: lbfgs failed to converge (status=1):\n",
      "STOP: TOTAL NO. of ITERATIONS REACHED LIMIT.\n",
      "\n",
      "Increase the number of iterations (max_iter) or scale the data as shown in:\n",
      "    https://scikit-learn.org/stable/modules/preprocessing.html\n",
      "Please also refer to the documentation for alternative solver options:\n",
      "    https://scikit-learn.org/stable/modules/linear_model.html#logistic-regression\n",
      "  n_iter_i = _check_optimize_result(\n"
     ]
    }
   ],
   "source": [
    "from sklearn.linear_model import LogisticRegression\n",
    "\n",
    "log_reg = LogisticRegression().fit(X_train, y_train)\n",
    "log_reg_preds = log_reg.predict(X_test)\n",
    "\n",
    "print(classification_report(y_test, log_reg_preds, target_names=['no', 'yes']))\n",
    "\n",
    "log_reg_bl = LogisticRegression().fit(X_train_balanced, y_train_balanced)\n",
    "log_reg_preds_bl = log_reg_bl.predict(X_test)\n",
    "\n",
    "print(classification_report(y_test, log_reg_preds_bl, target_names=['no', 'yes']))"
   ]
  },
  {
   "cell_type": "markdown",
   "metadata": {},
   "source": [
    "## Non-parametric Models"
   ]
  },
  {
   "cell_type": "markdown",
   "metadata": {},
   "source": [
    "### Decision Tree"
   ]
  },
  {
   "cell_type": "code",
   "execution_count": 37,
   "metadata": {},
   "outputs": [
    {
     "name": "stdout",
     "output_type": "stream",
     "text": [
      "              precision    recall  f1-score   support\n",
      "\n",
      "          no       0.94      0.94      0.94      7307\n",
      "         yes       0.51      0.52      0.52       927\n",
      "\n",
      "    accuracy                           0.89      8234\n",
      "   macro avg       0.73      0.73      0.73      8234\n",
      "weighted avg       0.89      0.89      0.89      8234\n",
      "\n",
      "              precision    recall  f1-score   support\n",
      "\n",
      "          no       0.95      0.93      0.94      7307\n",
      "         yes       0.52      0.59      0.55       927\n",
      "\n",
      "    accuracy                           0.89      8234\n",
      "   macro avg       0.73      0.76      0.75      8234\n",
      "weighted avg       0.90      0.89      0.90      8234\n",
      "\n"
     ]
    }
   ],
   "source": [
    "from sklearn.tree import DecisionTreeClassifier\n",
    "\n",
    "decision_tree = DecisionTreeClassifier().fit(X_train, y_train)\n",
    "decision_tree_preds = decision_tree.predict(X_test)\n",
    "\n",
    "print(classification_report(y_test, decision_tree_preds, target_names=['no', 'yes']))\n",
    "\n",
    "decision_tree_bl = DecisionTreeClassifier().fit(X_train_balanced, y_train_balanced)\n",
    "decision_tree_preds_bl = decision_tree_bl.predict(X_test)\n",
    "\n",
    "print(classification_report(y_test, decision_tree_preds_bl, target_names=['no', 'yes']))"
   ]
  },
  {
   "cell_type": "markdown",
   "metadata": {},
   "source": [
    "### Random Forest"
   ]
  },
  {
   "cell_type": "code",
   "execution_count": 59,
   "metadata": {},
   "outputs": [
    {
     "name": "stdout",
     "output_type": "stream",
     "text": [
      "100%|██████████| 100/100 [00:56<00:00,  1.78trial/s, best loss: -0.0]\n",
      "Best Hyperparameters:\n",
      "{'max_depth': 14.0, 'max_features': 1, 'min_samples_leaf': 0.18627975474717146, 'min_samples_split': 0.9799164162378826, 'n_estimators': 120.0}\n"
     ]
    }
   ],
   "source": [
    "from hyperopt import fmin, tpe, hp\n",
    "from sklearn.ensemble import RandomForestClassifier\n",
    "from sklearn.model_selection import cross_val_score\n",
    "\n",
    "space = {\n",
    "    'n_estimators': hp.quniform('n_estimators', 10, 200, 1),\n",
    "    'max_depth': hp.quniform('max_depth', 2, 20, 1),\n",
    "    'min_samples_split': hp.uniform('min_samples_split', 0, 1),\n",
    "    'min_samples_leaf': hp.uniform('min_samples_leaf', 0, 0.5),\n",
    "    'max_features': hp.choice('max_features', ['sqrt', 'log2', None])\n",
    "}\n",
    "\n",
    "\n",
    "def rf_objective(params):\n",
    "    # Ensure 'max_depth' is an integer\n",
    "    params['max_depth'] = int(params['max_depth'])\n",
    "    params['n_estimators'] = int(params['n_estimators'])\n",
    "\n",
    "    # Instantiate a Random Forest classifier with hyperparameters\n",
    "    random_forest = RandomForestClassifier(n_estimators=params['n_estimators'],\n",
    "                                max_depth=params['max_depth'],\n",
    "                                min_samples_split=params['min_samples_split'],\n",
    "                                min_samples_leaf=params['min_samples_leaf'],\n",
    "                                max_features=params['max_features'])\n",
    "    \n",
    "    # score = cross_val_score(random_forest, X_train, y_train, cv=5, scoring='f1_macro').mean()\n",
    "    random_forest.fit(X_train, y_train)\n",
    "    preds = random_forest.predict(X_test)\n",
    "    score = f1_score(y_test, preds)\n",
    "\n",
    "    return -score\n",
    "\n",
    "rf_best_params = fmin(fn=rf_objective, space=space, algo=tpe.suggest, max_evals=100)\n",
    "print(\"Best Hyperparameters:\")\n",
    "print(rf_best_params)"
   ]
  },
  {
   "cell_type": "code",
   "execution_count": 67,
   "metadata": {},
   "outputs": [
    {
     "name": "stdout",
     "output_type": "stream",
     "text": [
      "              precision    recall  f1-score   support\n",
      "\n",
      "          no       0.96      0.92      0.94      7307\n",
      "         yes       0.55      0.72      0.62       927\n",
      "\n",
      "    accuracy                           0.90      8234\n",
      "   macro avg       0.76      0.82      0.78      8234\n",
      "weighted avg       0.92      0.90      0.91      8234\n",
      "\n",
      "              precision    recall  f1-score   support\n",
      "\n",
      "          no       0.94      0.97      0.95      7307\n",
      "         yes       0.67      0.51      0.58       927\n",
      "\n",
      "    accuracy                           0.92      8234\n",
      "   macro avg       0.80      0.74      0.77      8234\n",
      "weighted avg       0.91      0.92      0.91      8234\n",
      "\n"
     ]
    }
   ],
   "source": [
    "# random_forest_best = RandomForestClassifier(\n",
    "#     n_estimators=int(rf_best_params['n_estimators']),\n",
    "#     max_depth=int(rf_best_params['max_depth']),\n",
    "#     min_samples_split=rf_best_params['min_samples_split'],\n",
    "#     min_samples_leaf=rf_best_params['min_samples_leaf'],\n",
    "#     max_features=None\n",
    "# )\n",
    "\n",
    "random_forest_best = RandomForestClassifier(\n",
    "    n_estimators=int(rf_best_params['n_estimators']),\n",
    "    max_depth=int(rf_best_params['max_depth']),\n",
    "    min_samples_split=2,\n",
    "    min_samples_leaf=2,\n",
    "    max_features=None\n",
    ")\n",
    "\n",
    "random_forest_best.fit(X_train_balanced, y_train_balanced)\n",
    "rf_preds_best = random_forest_best.predict(X_test)\n",
    "\n",
    "print(classification_report(y_test, rf_preds_best, target_names=['no', 'yes']))\n",
    "\n",
    "random_forest = RandomForestClassifier()\n",
    "\n",
    "random_forest.fit(X_train, y_train)\n",
    "rf_preds = random_forest.predict(X_test)\n",
    "\n",
    "print(classification_report(y_test, rf_preds, target_names=['no', 'yes']))"
   ]
  },
  {
   "cell_type": "code",
   "execution_count": 66,
   "metadata": {},
   "outputs": [
    {
     "data": {
      "text/plain": [
       "{'bootstrap': True,\n",
       " 'ccp_alpha': 0.0,\n",
       " 'class_weight': None,\n",
       " 'criterion': 'gini',\n",
       " 'max_depth': None,\n",
       " 'max_features': 'sqrt',\n",
       " 'max_leaf_nodes': None,\n",
       " 'max_samples': None,\n",
       " 'min_impurity_decrease': 0.0,\n",
       " 'min_samples_leaf': 1,\n",
       " 'min_samples_split': 2,\n",
       " 'min_weight_fraction_leaf': 0.0,\n",
       " 'n_estimators': 100,\n",
       " 'n_jobs': None,\n",
       " 'oob_score': False,\n",
       " 'random_state': None,\n",
       " 'verbose': 0,\n",
       " 'warm_start': False}"
      ]
     },
     "execution_count": 66,
     "metadata": {},
     "output_type": "execute_result"
    }
   ],
   "source": [
    "# from sklearn import tree\n",
    "\n",
    "# fig = plt.figure(figsize=(25,20))\n",
    "# _ = tree.plot_tree(decision_tree, \n",
    "#                    feature_names=X_train.columns,  \n",
    "#                    class_names=['no', 'yes'],\n",
    "#                    filled=True)\n",
    "\n",
    "# decision_tree.get_params()\n",
    "random_forest.get_params()"
   ]
  },
  {
   "cell_type": "markdown",
   "metadata": {},
   "source": [
    "### Gradient Boosting"
   ]
  },
  {
   "cell_type": "code",
   "execution_count": 38,
   "metadata": {},
   "outputs": [
    {
     "name": "stdout",
     "output_type": "stream",
     "text": [
      "              precision    recall  f1-score   support\n",
      "\n",
      "          no       0.94      0.97      0.96      7307\n",
      "         yes       0.68      0.53      0.60       927\n",
      "\n",
      "    accuracy                           0.92      8234\n",
      "   macro avg       0.81      0.75      0.78      8234\n",
      "weighted avg       0.91      0.92      0.92      8234\n",
      "\n",
      "              precision    recall  f1-score   support\n",
      "\n",
      "          no       0.97      0.91      0.94      7307\n",
      "         yes       0.53      0.79      0.63       927\n",
      "\n",
      "    accuracy                           0.90      8234\n",
      "   macro avg       0.75      0.85      0.79      8234\n",
      "weighted avg       0.92      0.90      0.91      8234\n",
      "\n"
     ]
    }
   ],
   "source": [
    "from sklearn.ensemble import GradientBoostingClassifier\n",
    "\n",
    "grad_boost = GradientBoostingClassifier().fit(X_train, y_train)\n",
    "grad_boost_preds = grad_boost.predict(X_test)\n",
    "\n",
    "print(classification_report(y_test, grad_boost_preds, target_names=['no', 'yes']))\n",
    "\n",
    "grad_boost_bl = GradientBoostingClassifier().fit(X_train_balanced, y_train_balanced)\n",
    "grad_boost_preds_bl = grad_boost_bl.predict(X_test)\n",
    "\n",
    "print(classification_report(y_test, grad_boost_preds_bl, target_names=['no', 'yes']))"
   ]
  },
  {
   "cell_type": "code",
   "execution_count": null,
   "metadata": {},
   "outputs": [],
   "source": []
  }
 ],
 "metadata": {
  "kernelspec": {
   "display_name": "Python 3 (ipykernel)",
   "language": "python",
   "name": "python3"
  },
  "language_info": {
   "codemirror_mode": {
    "name": "ipython",
    "version": 3
   },
   "file_extension": ".py",
   "mimetype": "text/x-python",
   "name": "python",
   "nbconvert_exporter": "python",
   "pygments_lexer": "ipython3",
   "version": "3.9.18"
  }
 },
 "nbformat": 4,
 "nbformat_minor": 2
}
